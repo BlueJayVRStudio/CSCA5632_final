{
 "cells": [
  {
   "cell_type": "markdown",
   "id": "b107916f-9b97-482d-8aff-d07e02812e14",
   "metadata": {},
   "source": [
    "# Agriculture Crop Yield: Soil Type Prediction"
   ]
  },
  {
   "cell_type": "markdown",
   "id": "803991c2-6b12-47d2-bdd3-f01b2fe88ebe",
   "metadata": {},
   "source": [
    "By: Jaeyoung Oh\n",
    "\n",
    "GitHub: https://github.com/BlueJayVRStudio/CSCA5632_final\n",
    "\n"
   ]
  },
  {
   "cell_type": "markdown",
   "id": "d3e38c7e-87f1-405a-a89d-a0389f6e8f0c",
   "metadata": {},
   "source": [
    "##### dataset: https://www.kaggle.com/datasets/samuelotiattakorah/agriculture-crop-yield\n",
    "\n",
    "The author of the dataset also posted a preliminary EDA. We will use this as a reference and adjust it to the needs of this project\n",
    "\n",
    "##### EDA reference: https://www.kaggle.com/code/samuelotiattakorah/eda-on-agriculture-crop-yield"
   ]
  },
  {
   "cell_type": "markdown",
   "id": "d559b1fb-7c06-4533-9824-5968d5a9152d",
   "metadata": {},
   "source": [
    "## Initial Project Setup"
   ]
  },
  {
   "cell_type": "code",
   "execution_count": 1,
   "id": "c6257ff6-2888-4725-883e-15662c073012",
   "metadata": {},
   "outputs": [],
   "source": [
    "import os\n",
    "import numpy as np\n",
    "import pandas as pd\n",
    "import matplotlib.pyplot as plt\n",
    "\n",
    "import seaborn as sns\n",
    "import statsmodels.formula.api as smf\n",
    "import statsmodels.api as sm\n",
    "\n",
    "from sklearn.cluster import AgglomerativeClustering, KMeans\n",
    "from sklearn.metrics import accuracy_score, confusion_matrix"
   ]
  },
  {
   "cell_type": "code",
   "execution_count": 2,
   "id": "c97e162e-51b7-42d9-95b7-a9b931c9a31f",
   "metadata": {},
   "outputs": [],
   "source": [
    "import warnings\n",
    "from sklearn.exceptions import ConvergenceWarning\n",
    "\n",
    "# please, no warnings\n",
    "warnings.filterwarnings(\"ignore\")\n",
    "warnings.filterwarnings(\"ignore\", category=ConvergenceWarning)\n",
    "os.environ['PYTHONWARNINGS']='ignore'"
   ]
  },
  {
   "cell_type": "markdown",
   "id": "2a36d0a0-f36d-4967-8c39-b6e5ed875648",
   "metadata": {},
   "source": [
    "## Iterative Data Cleaning and EDA"
   ]
  },
  {
   "cell_type": "code",
   "execution_count": 3,
   "id": "1f3bfb70-1cfc-491d-9015-e532bcc7b89a",
   "metadata": {},
   "outputs": [],
   "source": [
    "# import data\n",
    "df_crop_yield = pd.read_csv('./data/crop_yield.csv')"
   ]
  },
  {
   "cell_type": "markdown",
   "id": "be365bc4-424f-4679-92be-8bf15598ae1e",
   "metadata": {},
   "source": [
    "### Data Description"
   ]
  },
  {
   "cell_type": "code",
   "execution_count": 4,
   "id": "6480e0bd-e014-436e-a6d6-3b6e7f315723",
   "metadata": {},
   "outputs": [
    {
     "name": "stdout",
     "output_type": "stream",
     "text": [
      "<class 'pandas.core.frame.DataFrame'>\n",
      "RangeIndex: 1000000 entries, 0 to 999999\n",
      "Data columns (total 10 columns):\n",
      " #   Column                  Non-Null Count    Dtype  \n",
      "---  ------                  --------------    -----  \n",
      " 0   Region                  1000000 non-null  object \n",
      " 1   Soil_Type               1000000 non-null  object \n",
      " 2   Crop                    1000000 non-null  object \n",
      " 3   Rainfall_mm             1000000 non-null  float64\n",
      " 4   Temperature_Celsius     1000000 non-null  float64\n",
      " 5   Fertilizer_Used         1000000 non-null  bool   \n",
      " 6   Irrigation_Used         1000000 non-null  bool   \n",
      " 7   Weather_Condition       1000000 non-null  object \n",
      " 8   Days_to_Harvest         1000000 non-null  int64  \n",
      " 9   Yield_tons_per_hectare  1000000 non-null  float64\n",
      "dtypes: bool(2), float64(3), int64(1), object(4)\n",
      "memory usage: 62.9+ MB\n"
     ]
    }
   ],
   "source": [
    "df_crop_yield.info()"
   ]
  },
  {
   "cell_type": "markdown",
   "id": "737a8682-c50e-4bbb-9584-f7caea8944a8",
   "metadata": {},
   "source": [
    "There are no null values, so conveniently we do not have to fill in any missing values. However, we still have numerous preprocessing steps to ensure that our data is ready for clustering tasks.\n",
    "> - Random sample portion of the dataset, since we will run into memory issues with 1 million data points,\n",
    "> - Separate \"Soil_Type\" from rest of the data frame since we'll be using that as target labels,\n",
    "> - \"Region\" and \"Crop\" are non-ordinal categorical data, thus we need to convert them to binary, one-hot encoding,\n",
    "> - \"Weather_Condition\" is also categorical, but one could argue that it is ordinal since cloud cover is inversely proportional to sunlight and directly proportional to precipitation. Using just one of those two relationships should suffice,\n",
    "> - For the rest of the numerical columns, we will perform quick outlier analysis and drop them as we have sufficient data. We will also ensure that no column has over-influence by using standard scaling,\n",
    "> - Lastly we will check for class imbalance on the soil types to ensure that we are working with balanced dataset."
   ]
  },
  {
   "cell_type": "code",
   "execution_count": 39,
   "id": "aa5b1f66-628d-4522-a731-5ac13a8b1bcf",
   "metadata": {},
   "outputs": [
    {
     "data": {
      "text/html": [
       "<div>\n",
       "<style scoped>\n",
       "    .dataframe tbody tr th:only-of-type {\n",
       "        vertical-align: middle;\n",
       "    }\n",
       "\n",
       "    .dataframe tbody tr th {\n",
       "        vertical-align: top;\n",
       "    }\n",
       "\n",
       "    .dataframe thead th {\n",
       "        text-align: right;\n",
       "    }\n",
       "</style>\n",
       "<table border=\"1\" class=\"dataframe\">\n",
       "  <thead>\n",
       "    <tr style=\"text-align: right;\">\n",
       "      <th></th>\n",
       "      <th>Region</th>\n",
       "      <th>Soil_Type</th>\n",
       "      <th>Crop</th>\n",
       "      <th>Rainfall_mm</th>\n",
       "      <th>Temperature_Celsius</th>\n",
       "      <th>Fertilizer_Used</th>\n",
       "      <th>Irrigation_Used</th>\n",
       "      <th>Weather_Condition</th>\n",
       "      <th>Days_to_Harvest</th>\n",
       "      <th>Yield_tons_per_hectare</th>\n",
       "    </tr>\n",
       "  </thead>\n",
       "  <tbody>\n",
       "    <tr>\n",
       "      <th>0</th>\n",
       "      <td>West</td>\n",
       "      <td>Sandy</td>\n",
       "      <td>Cotton</td>\n",
       "      <td>897.077239</td>\n",
       "      <td>27.676966</td>\n",
       "      <td>False</td>\n",
       "      <td>True</td>\n",
       "      <td>Cloudy</td>\n",
       "      <td>122</td>\n",
       "      <td>6.555816</td>\n",
       "    </tr>\n",
       "    <tr>\n",
       "      <th>1</th>\n",
       "      <td>South</td>\n",
       "      <td>Clay</td>\n",
       "      <td>Rice</td>\n",
       "      <td>992.673282</td>\n",
       "      <td>18.026142</td>\n",
       "      <td>True</td>\n",
       "      <td>True</td>\n",
       "      <td>Rainy</td>\n",
       "      <td>140</td>\n",
       "      <td>8.527341</td>\n",
       "    </tr>\n",
       "    <tr>\n",
       "      <th>2</th>\n",
       "      <td>North</td>\n",
       "      <td>Loam</td>\n",
       "      <td>Barley</td>\n",
       "      <td>147.998025</td>\n",
       "      <td>29.794042</td>\n",
       "      <td>False</td>\n",
       "      <td>False</td>\n",
       "      <td>Sunny</td>\n",
       "      <td>106</td>\n",
       "      <td>1.127443</td>\n",
       "    </tr>\n",
       "    <tr>\n",
       "      <th>3</th>\n",
       "      <td>North</td>\n",
       "      <td>Sandy</td>\n",
       "      <td>Soybean</td>\n",
       "      <td>986.866331</td>\n",
       "      <td>16.644190</td>\n",
       "      <td>False</td>\n",
       "      <td>True</td>\n",
       "      <td>Rainy</td>\n",
       "      <td>146</td>\n",
       "      <td>6.517573</td>\n",
       "    </tr>\n",
       "    <tr>\n",
       "      <th>4</th>\n",
       "      <td>South</td>\n",
       "      <td>Silt</td>\n",
       "      <td>Wheat</td>\n",
       "      <td>730.379174</td>\n",
       "      <td>31.620687</td>\n",
       "      <td>True</td>\n",
       "      <td>True</td>\n",
       "      <td>Cloudy</td>\n",
       "      <td>110</td>\n",
       "      <td>7.248251</td>\n",
       "    </tr>\n",
       "    <tr>\n",
       "      <th>5</th>\n",
       "      <td>South</td>\n",
       "      <td>Silt</td>\n",
       "      <td>Soybean</td>\n",
       "      <td>797.471182</td>\n",
       "      <td>37.704974</td>\n",
       "      <td>False</td>\n",
       "      <td>True</td>\n",
       "      <td>Rainy</td>\n",
       "      <td>74</td>\n",
       "      <td>5.898416</td>\n",
       "    </tr>\n",
       "    <tr>\n",
       "      <th>6</th>\n",
       "      <td>West</td>\n",
       "      <td>Clay</td>\n",
       "      <td>Wheat</td>\n",
       "      <td>357.902357</td>\n",
       "      <td>31.593431</td>\n",
       "      <td>False</td>\n",
       "      <td>False</td>\n",
       "      <td>Rainy</td>\n",
       "      <td>90</td>\n",
       "      <td>2.652392</td>\n",
       "    </tr>\n",
       "    <tr>\n",
       "      <th>7</th>\n",
       "      <td>South</td>\n",
       "      <td>Sandy</td>\n",
       "      <td>Rice</td>\n",
       "      <td>441.131154</td>\n",
       "      <td>30.887107</td>\n",
       "      <td>True</td>\n",
       "      <td>True</td>\n",
       "      <td>Sunny</td>\n",
       "      <td>61</td>\n",
       "      <td>5.829542</td>\n",
       "    </tr>\n",
       "    <tr>\n",
       "      <th>8</th>\n",
       "      <td>North</td>\n",
       "      <td>Silt</td>\n",
       "      <td>Wheat</td>\n",
       "      <td>181.587861</td>\n",
       "      <td>26.752729</td>\n",
       "      <td>True</td>\n",
       "      <td>False</td>\n",
       "      <td>Sunny</td>\n",
       "      <td>127</td>\n",
       "      <td>2.943716</td>\n",
       "    </tr>\n",
       "    <tr>\n",
       "      <th>9</th>\n",
       "      <td>West</td>\n",
       "      <td>Sandy</td>\n",
       "      <td>Wheat</td>\n",
       "      <td>395.048968</td>\n",
       "      <td>17.646199</td>\n",
       "      <td>False</td>\n",
       "      <td>True</td>\n",
       "      <td>Rainy</td>\n",
       "      <td>140</td>\n",
       "      <td>3.707293</td>\n",
       "    </tr>\n",
       "  </tbody>\n",
       "</table>\n",
       "</div>"
      ],
      "text/plain": [
       "  Region Soil_Type     Crop  Rainfall_mm  Temperature_Celsius  \\\n",
       "0   West     Sandy   Cotton   897.077239            27.676966   \n",
       "1  South      Clay     Rice   992.673282            18.026142   \n",
       "2  North      Loam   Barley   147.998025            29.794042   \n",
       "3  North     Sandy  Soybean   986.866331            16.644190   \n",
       "4  South      Silt    Wheat   730.379174            31.620687   \n",
       "5  South      Silt  Soybean   797.471182            37.704974   \n",
       "6   West      Clay    Wheat   357.902357            31.593431   \n",
       "7  South     Sandy     Rice   441.131154            30.887107   \n",
       "8  North      Silt    Wheat   181.587861            26.752729   \n",
       "9   West     Sandy    Wheat   395.048968            17.646199   \n",
       "\n",
       "   Fertilizer_Used  Irrigation_Used Weather_Condition  Days_to_Harvest  \\\n",
       "0            False             True            Cloudy              122   \n",
       "1             True             True             Rainy              140   \n",
       "2            False            False             Sunny              106   \n",
       "3            False             True             Rainy              146   \n",
       "4             True             True            Cloudy              110   \n",
       "5            False             True             Rainy               74   \n",
       "6            False            False             Rainy               90   \n",
       "7             True             True             Sunny               61   \n",
       "8             True            False             Sunny              127   \n",
       "9            False             True             Rainy              140   \n",
       "\n",
       "   Yield_tons_per_hectare  \n",
       "0                6.555816  \n",
       "1                8.527341  \n",
       "2                1.127443  \n",
       "3                6.517573  \n",
       "4                7.248251  \n",
       "5                5.898416  \n",
       "6                2.652392  \n",
       "7                5.829542  \n",
       "8                2.943716  \n",
       "9                3.707293  "
      ]
     },
     "execution_count": 39,
     "metadata": {},
     "output_type": "execute_result"
    }
   ],
   "source": [
    "df_crop_yield.head(10)"
   ]
  },
  {
   "cell_type": "code",
   "execution_count": 5,
   "id": "98734797-6a2c-4bea-b724-882fce836775",
   "metadata": {},
   "outputs": [
    {
     "data": {
      "text/plain": [
       "array(['Sandy', 'Clay', 'Loam', 'Silt', 'Peaty', 'Chalky'], dtype=object)"
      ]
     },
     "execution_count": 5,
     "metadata": {},
     "output_type": "execute_result"
    }
   ],
   "source": [
    "df_crop_yield.Soil_Type.unique()"
   ]
  },
  {
   "cell_type": "code",
   "execution_count": 40,
   "id": "2de3ba07-2c45-48d6-bfdc-24338ddb1168",
   "metadata": {},
   "outputs": [
    {
     "data": {
      "text/plain": [
       "array(['Cotton', 'Rice', 'Barley', 'Soybean', 'Wheat', 'Maize'],\n",
       "      dtype=object)"
      ]
     },
     "execution_count": 40,
     "metadata": {},
     "output_type": "execute_result"
    }
   ],
   "source": [
    "df_crop_yield.Crop.unique()"
   ]
  },
  {
   "cell_type": "code",
   "execution_count": 18,
   "id": "94564b51-332e-42d4-93b2-844edecc5e38",
   "metadata": {},
   "outputs": [],
   "source": [
    "sample_crop_yield = df_crop_yield.sample(10000, random_state=0)"
   ]
  },
  {
   "cell_type": "code",
   "execution_count": 45,
   "id": "8226b092-88df-43f3-9d16-30e2f40f367b",
   "metadata": {},
   "outputs": [
    {
     "name": "stdout",
     "output_type": "stream",
     "text": [
      "[0 3 5 3 0 0 1 1 3 3 5 2 3 0 1 5 1 2 2 2]\n"
     ]
    }
   ],
   "source": [
    "model=AgglomerativeClustering(n_clusters=6, metric='euclidean', linkage='ward')\n",
    "model.fit(sample_crop_yield.iloc[:, 8:])\n",
    "print(model.labels_[0:20])"
   ]
  },
  {
   "cell_type": "code",
   "execution_count": 48,
   "id": "da2f64b2-d5af-4778-8682-7b6d6f831dc9",
   "metadata": {},
   "outputs": [
    {
     "name": "stdout",
     "output_type": "stream",
     "text": [
      "157105      Clay\n",
      "374554      Loam\n",
      "688694     Peaty\n",
      "265381    Chalky\n",
      "955415      Silt\n",
      "4280       Sandy\n",
      "514674     Peaty\n",
      "800352      Silt\n",
      "94727      Peaty\n",
      "753889      Clay\n",
      "334658    Chalky\n",
      "676584      Loam\n",
      "796710      Silt\n",
      "385008      Silt\n",
      "568106      Silt\n",
      "25532       Silt\n",
      "840001     Peaty\n",
      "726752     Sandy\n",
      "939105      Silt\n",
      "608171      Silt\n",
      "Name: Soil_Type, dtype: object\n"
     ]
    }
   ],
   "source": [
    "print(sample_crop_yield.Soil_Type[0:20])"
   ]
  },
  {
   "cell_type": "code",
   "execution_count": null,
   "id": "5211a9da-e9f2-4c88-860a-ebe8a022ee84",
   "metadata": {},
   "outputs": [],
   "source": []
  }
 ],
 "metadata": {
  "kernelspec": {
   "display_name": "Python 3 (ipykernel)",
   "language": "python",
   "name": "python3"
  },
  "language_info": {
   "codemirror_mode": {
    "name": "ipython",
    "version": 3
   },
   "file_extension": ".py",
   "mimetype": "text/x-python",
   "name": "python",
   "nbconvert_exporter": "python",
   "pygments_lexer": "ipython3",
   "version": "3.10.12"
  }
 },
 "nbformat": 4,
 "nbformat_minor": 5
}
