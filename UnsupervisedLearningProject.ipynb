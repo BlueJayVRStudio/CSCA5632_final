{
 "cells": [
  {
   "cell_type": "markdown",
   "id": "b107916f-9b97-482d-8aff-d07e02812e14",
   "metadata": {},
   "source": [
    "# Agriculture Crop Yield: Soil Type Prediction"
   ]
  },
  {
   "cell_type": "markdown",
   "id": "803991c2-6b12-47d2-bdd3-f01b2fe88ebe",
   "metadata": {},
   "source": []
  },
  {
   "cell_type": "code",
   "execution_count": 1,
   "id": "c6257ff6-2888-4725-883e-15662c073012",
   "metadata": {},
   "outputs": [],
   "source": [
    "import os\n",
    "import numpy as np\n",
    "import pandas as pd\n",
    "import matplotlib.pyplot as plt\n",
    "\n",
    "import seaborn as sns\n",
    "import statsmodels.formula.api as smf\n",
    "import statsmodels.api as sm"
   ]
  },
  {
   "cell_type": "code",
   "execution_count": 2,
   "id": "c97e162e-51b7-42d9-95b7-a9b931c9a31f",
   "metadata": {},
   "outputs": [],
   "source": [
    "import warnings\n",
    "from sklearn.exceptions import ConvergenceWarning\n",
    "\n",
    "# please, no warnings\n",
    "warnings.filterwarnings(\"ignore\")\n",
    "warnings.filterwarnings(\"ignore\", category=ConvergenceWarning)\n",
    "os.environ['PYTHONWARNINGS']='ignore'"
   ]
  },
  {
   "cell_type": "markdown",
   "id": "d3e38c7e-87f1-405a-a89d-a0389f6e8f0c",
   "metadata": {},
   "source": [
    "##### dataset: https://www.kaggle.com/datasets/samuelotiattakorah/agriculture-crop-yield\n",
    "\n",
    "The author of the dataset also posted a preliminary EDA. We will use this as a reference and adjust it to the needs of this project\n",
    "\n",
    "##### EDA reference: https://www.kaggle.com/code/samuelotiattakorah/eda-on-agriculture-crop-yield"
   ]
  },
  {
   "cell_type": "code",
   "execution_count": 8,
   "id": "1f3bfb70-1cfc-491d-9015-e532bcc7b89a",
   "metadata": {},
   "outputs": [],
   "source": [
    "df_crop_yield = pd.read_csv('./data/crop_yield.csv')"
   ]
  },
  {
   "cell_type": "code",
   "execution_count": 7,
   "id": "6480e0bd-e014-436e-a6d6-3b6e7f315723",
   "metadata": {},
   "outputs": [
    {
     "name": "stdout",
     "output_type": "stream",
     "text": [
      "<class 'pandas.core.frame.DataFrame'>\n",
      "RangeIndex: 1000000 entries, 0 to 999999\n",
      "Data columns (total 10 columns):\n",
      " #   Column                  Non-Null Count    Dtype  \n",
      "---  ------                  --------------    -----  \n",
      " 0   Region                  1000000 non-null  object \n",
      " 1   Soil_Type               1000000 non-null  object \n",
      " 2   Crop                    1000000 non-null  object \n",
      " 3   Rainfall_mm             1000000 non-null  float64\n",
      " 4   Temperature_Celsius     1000000 non-null  float64\n",
      " 5   Fertilizer_Used         1000000 non-null  bool   \n",
      " 6   Irrigation_Used         1000000 non-null  bool   \n",
      " 7   Weather_Condition       1000000 non-null  object \n",
      " 8   Days_to_Harvest         1000000 non-null  int64  \n",
      " 9   Yield_tons_per_hectare  1000000 non-null  float64\n",
      "dtypes: bool(2), float64(3), int64(1), object(4)\n",
      "memory usage: 62.9+ MB\n"
     ]
    }
   ],
   "source": [
    "df_crop_yield.info()"
   ]
  },
  {
   "cell_type": "markdown",
   "id": "737a8682-c50e-4bbb-9584-f7caea8944a8",
   "metadata": {},
   "source": [
    "There are no null values, so conveniently we do not have to fill in any missing values. However, "
   ]
  },
  {
   "cell_type": "code",
   "execution_count": null,
   "id": "8226b092-88df-43f3-9d16-30e2f40f367b",
   "metadata": {},
   "outputs": [],
   "source": []
  }
 ],
 "metadata": {
  "kernelspec": {
   "display_name": "Python 3 (ipykernel)",
   "language": "python",
   "name": "python3"
  },
  "language_info": {
   "codemirror_mode": {
    "name": "ipython",
    "version": 3
   },
   "file_extension": ".py",
   "mimetype": "text/x-python",
   "name": "python",
   "nbconvert_exporter": "python",
   "pygments_lexer": "ipython3",
   "version": "3.10.12"
  }
 },
 "nbformat": 4,
 "nbformat_minor": 5
}
